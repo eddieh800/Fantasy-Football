{
 "cells": [
  {
   "cell_type": "markdown",
   "metadata": {},
   "source": [
    "### Note:\n",
    "You have to update roster and week dictionaries in sync (the order of players must be the same for now or else the program won't work)"
   ]
  },
  {
   "cell_type": "code",
   "execution_count": 112,
   "metadata": {
    "collapsed": true
   },
   "outputs": [],
   "source": [
    "roster = [\n",
    "    {\"name\":\"Jared Goff\",\"position\":\"QB\"},\n",
    "    {\"name\":\"Julio Jones\",\"position\":\"WR\"},\n",
    "    {\"name\":\"Travis Kelce\",\"position\":\"TE\"},\n",
    "    {\"name\":\"Demaryius Thomas\",\"position\":\"WR\"},\n",
    "    {\"name\":\"TY Hilton\",\"position\":\"WR\"},\n",
    "    {\"name\":\"Lamar Miller\",\"position\":\"RB\"},\n",
    "    {\"name\":\"Kenyan Drake\",\"position\":\"RB\"},\n",
    "    {\"name\":\"Christian McCaffrey\",\"position\":\"RB\"},\n",
    "    {\"name\":\"Rex Burkhead\",\"position\":\"RB\"},\n",
    "    {\"name\":\"Samaje Perine\",\"position\":\"RB\"},\n",
    "    {\"name\":\"D'Onta Foreman\",\"position\":\"RB\"},\n",
    "    {\"name\":\"Jamison Crowder\",\"position\":\"WR\"},\n",
    "    {\"name\":\"Sammy Watkins\",\"position\":\"WR\"},\n",
    "    {\"name\":\"DeSean Jackson\",\"position\":\"WR\"}\n",
    "]\n",
    "\n",
    "week = [\n",
    "    {\"name\":\"Jared Goff\",\"points\":14.4},\n",
    "    {\"name\":\"Julio Jones\",\"points\":10.1},\n",
    "    {\"name\":\"Travis Kelce\",\"points\":9.3},\n",
    "    {\"name\":\"Demaryius Thomas\",\"points\":7.4},\n",
    "    {\"name\":\"TY Hilton\",\"points\":0},\n",
    "    {\"name\":\"Lamar Miller\",\"points\":12.4},\n",
    "    {\"name\":\"Kenyan Drake\",\"points\":9.1},\n",
    "    {\"name\":\"Christian McCaffrey\",\"points\":0},\n",
    "    {\"name\":\"Rex Burkhead\",\"points\":6.6},\n",
    "    {\"name\":\"Samaje Perine\",\"points\":7.5},\n",
    "    {\"name\":\"D'Onta Foreman\",\"points\":5.8},\n",
    "    {\"name\":\"Jamison Crowder\",\"points\":7.2},\n",
    "    {\"name\":\"Sammy Watkins\",\"points\":6},\n",
    "    {\"name\":\"DeSean Jackson\",\"points\":7.5}\n",
    "]"
   ]
  },
  {
   "cell_type": "code",
   "execution_count": 113,
   "metadata": {
    "collapsed": true
   },
   "outputs": [],
   "source": [
    "def points_list(position):\n",
    "    n=0\n",
    "    points = []\n",
    "\n",
    "    while n<=len(roster)-1:\n",
    "        if roster[n]['position'] == position:\n",
    "            #the below assumes week is same order and only has players on roster list\n",
    "            points.append(week[n]['points'])\n",
    "            n = n+1\n",
    "        else:\n",
    "            n=n+1\n",
    "    return points"
   ]
  },
  {
   "cell_type": "code",
   "execution_count": 114,
   "metadata": {},
   "outputs": [],
   "source": [
    "def starter(position,rank):\n",
    "    points = sorted(points_list(position), reverse=True)[rank-1]\n",
    "    n=0\n",
    "    receiver = []\n",
    "    \n",
    "    while n<=len(week)-1:\n",
    "        if week[n]['points']==points and roster[n]['position']==position:\n",
    "            receiver.append(roster[n]['name'])\n",
    "            n=n+1\n",
    "        else:\n",
    "            n=n+1\n",
    "    return receiver"
   ]
  },
  {
   "cell_type": "code",
   "execution_count": null,
   "metadata": {},
   "outputs": [],
   "source": []
  },
  {
   "cell_type": "code",
   "execution_count": 115,
   "metadata": {},
   "outputs": [],
   "source": [
    "starter_list = [starter('QB',1)[0],\n",
    "starter('RB',1)[0],\n",
    "starter('RB',2)[0],\n",
    "starter('WR',1)[0],\n",
    "starter('WR',2)[0],\n",
    "starter('TE',1)[0]]"
   ]
  },
  {
   "cell_type": "code",
   "execution_count": 116,
   "metadata": {},
   "outputs": [
    {
     "data": {
      "text/plain": [
       "['Jared Goff',\n",
       " 'Lamar Miller',\n",
       " 'Kenyan Drake',\n",
       " 'Julio Jones',\n",
       " 'DeSean Jackson',\n",
       " 'Travis Kelce']"
      ]
     },
     "execution_count": 116,
     "metadata": {},
     "output_type": "execute_result"
    }
   ],
   "source": [
    "starter_list"
   ]
  },
  {
   "cell_type": "code",
   "execution_count": 117,
   "metadata": {},
   "outputs": [],
   "source": [
    "flex_positions = ['WR','RB','TE']\n",
    "\n",
    "\n",
    "def flex_points():\n",
    "    n=0\n",
    "    flex_list = []\n",
    "    while n <= len(roster)-1:\n",
    "        if roster[n]['name'] not in starter_list and roster[n]['position'] in flex_positions:\n",
    "            flex_list.append(week[n]['points'])\n",
    "            n=n+1\n",
    "        else:\n",
    "            n=n+1\n",
    "    return sorted(flex_list, reverse=True)[0]\n"
   ]
  },
  {
   "cell_type": "code",
   "execution_count": 118,
   "metadata": {},
   "outputs": [],
   "source": [
    "def flex():\n",
    "    flex_player = []\n",
    "    n=0\n",
    "    while n <=len(week)-1:\n",
    "        if week[n]['points']==flex_points() and roster[n]['name'] not in starter_list:\n",
    "            flex_player.append(roster[n]['name'])\n",
    "            n=n+1\n",
    "        else:\n",
    "            n=n+1\n",
    "    return flex_player"
   ]
  },
  {
   "cell_type": "code",
   "execution_count": 119,
   "metadata": {},
   "outputs": [
    {
     "name": "stdout",
     "output_type": "stream",
     "text": [
      "QB: Jared Goff\n",
      "RB1: Lamar Miller\n",
      "RB2: Kenyan Drake\n",
      "WR1: Julio Jones\n",
      "WR2: DeSean Jackson\n",
      "TE: Travis Kelce\n",
      "FLEX: Samaje Perine\n"
     ]
    }
   ],
   "source": [
    "position_list = ['QB','RB1','RB2','WR1','WR2','TE']\n",
    "\n",
    "for position,starter in zip(position_list,starter_list):\n",
    "    print(position+\": \"+starter)\n",
    "print(\"FLEX\"+\": \"+flex()[0])"
   ]
  },
  {
   "cell_type": "code",
   "execution_count": null,
   "metadata": {
    "collapsed": true
   },
   "outputs": [],
   "source": []
  },
  {
   "cell_type": "code",
   "execution_count": null,
   "metadata": {
    "collapsed": true
   },
   "outputs": [],
   "source": []
  },
  {
   "cell_type": "code",
   "execution_count": null,
   "metadata": {
    "collapsed": true
   },
   "outputs": [],
   "source": []
  },
  {
   "cell_type": "code",
   "execution_count": null,
   "metadata": {
    "collapsed": true
   },
   "outputs": [],
   "source": []
  },
  {
   "cell_type": "code",
   "execution_count": null,
   "metadata": {
    "collapsed": true
   },
   "outputs": [],
   "source": []
  }
 ],
 "metadata": {
  "kernelspec": {
   "display_name": "Python 3",
   "language": "python",
   "name": "python3"
  },
  "language_info": {
   "codemirror_mode": {
    "name": "ipython",
    "version": 3
   },
   "file_extension": ".py",
   "mimetype": "text/x-python",
   "name": "python",
   "nbconvert_exporter": "python",
   "pygments_lexer": "ipython3",
   "version": "3.6.3"
  }
 },
 "nbformat": 4,
 "nbformat_minor": 2
}
